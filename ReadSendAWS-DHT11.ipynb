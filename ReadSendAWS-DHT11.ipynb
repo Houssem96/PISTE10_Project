{
 "cells": [
  {
   "cell_type": "markdown",
   "metadata": {},
   "source": [
    "## Installing Modules and Packages"
   ]
  },
  {
   "cell_type": "code",
   "execution_count": 7,
   "metadata": {},
   "outputs": [
    {
     "name": "stdout",
     "output_type": "stream",
     "text": [
      "Lecture des listes de paquets... Fait\n",
      "Construction de l'arbre des dépendances       \n",
      "Lecture des informations d'état... Fait\n",
      "python3-pip is already the newest version (9.0.1-2+rpt2).\n",
      "0 mis à jour, 0 nouvellement installés, 0 à enlever et 153 non mis à jour.\n",
      "Looking in indexes: https://pypi.org/simple, https://www.piwheels.org/simple\n",
      "Requirement already satisfied: Adafruit_DHT in /usr/local/lib/python3.5/dist-packages (1.4.0)\n",
      "Looking in indexes: https://pypi.org/simple, https://www.piwheels.org/simple\n",
      "Collecting mysql.connector\n",
      "Installing collected packages: mysql.connector\n",
      "Successfully installed mysql.connector\n"
     ]
    }
   ],
   "source": [
    "!sudo apt-get install python3-pip\n",
    "!sudo pip3 install Adafruit_DHT\n",
    "!sudo pip3 install mysql.connector"
   ]
  },
  {
   "cell_type": "markdown",
   "metadata": {},
   "source": []
  },
  {
   "cell_type": "code",
   "execution_count": 9,
   "metadata": {
    "collapsed": true,
    "scrolled": false
   },
   "outputs": [],
   "source": [
    "import serial\n",
    "import datetime\n",
    "import time\n",
    "import Adafruit_DHT\n",
    "import mysql.connector"
   ]
  },
  {
   "cell_type": "code",
   "execution_count": 10,
   "metadata": {},
   "outputs": [
    {
     "name": "stdout",
     "output_type": "stream",
     "text": [
      "Connected to your Database!\n",
      "Humidity = 41.0 %; Temperature = 23.0 C\n",
      "Done !\n",
      "Humidity = 42.0 %; Temperature = 23.0 C\n",
      "Done !\n",
      "Humidity = 40.0 %; Temperature = 23.0 C\n",
      "Done !\n",
      "Humidity = 40.0 %; Temperature = 23.0 C\n",
      "Done !\n",
      "Humidity = 40.0 %; Temperature = 23.0 C\n",
      "Done !\n"
     ]
    },
    {
     "ename": "KeyboardInterrupt",
     "evalue": "",
     "output_type": "error",
     "traceback": [
      "\u001b[0;31m---------------------------------------------------------------------------\u001b[0m",
      "\u001b[0;31mKeyboardInterrupt\u001b[0m                         Traceback (most recent call last)",
      "\u001b[0;32m<ipython-input-10-ce5b92346f42>\u001b[0m in \u001b[0;36m<module>\u001b[0;34m\u001b[0m\n\u001b[1;32m     14\u001b[0m \u001b[0;34m\u001b[0m\u001b[0m\n\u001b[1;32m     15\u001b[0m \u001b[0;32mwhile\u001b[0m \u001b[0;32mTrue\u001b[0m \u001b[0;34m:\u001b[0m\u001b[0;34m\u001b[0m\u001b[0m\n\u001b[0;32m---> 16\u001b[0;31m         \u001b[0mHumidity\u001b[0m\u001b[0;34m,\u001b[0m\u001b[0mTemperature\u001b[0m \u001b[0;34m=\u001b[0m \u001b[0mAdafruit_DHT\u001b[0m\u001b[0;34m.\u001b[0m\u001b[0mread_retry\u001b[0m\u001b[0;34m(\u001b[0m\u001b[0;36m11\u001b[0m\u001b[0;34m,\u001b[0m\u001b[0;36m27\u001b[0m\u001b[0;34m)\u001b[0m\u001b[0;34m\u001b[0m\u001b[0m\n\u001b[0m\u001b[1;32m     17\u001b[0m \u001b[0;34m\u001b[0m\u001b[0m\n\u001b[1;32m     18\u001b[0m         \u001b[0mprint\u001b[0m \u001b[0;34m(\u001b[0m\u001b[0;34m\"Humidity = {} %; Temperature = {} C\"\u001b[0m\u001b[0;34m.\u001b[0m\u001b[0mformat\u001b[0m\u001b[0;34m(\u001b[0m\u001b[0mHumidity\u001b[0m\u001b[0;34m,\u001b[0m \u001b[0mTemperature\u001b[0m\u001b[0;34m)\u001b[0m\u001b[0;34m)\u001b[0m\u001b[0;34m\u001b[0m\u001b[0m\n",
      "\u001b[0;32m/usr/local/lib/python3.5/dist-packages/Adafruit_DHT/common.py\u001b[0m in \u001b[0;36mread_retry\u001b[0;34m(sensor, pin, retries, delay_seconds, platform)\u001b[0m\n\u001b[1;32m     95\u001b[0m         \u001b[0;32mif\u001b[0m \u001b[0mhumidity\u001b[0m \u001b[0;32mis\u001b[0m \u001b[0;32mnot\u001b[0m \u001b[0;32mNone\u001b[0m \u001b[0;32mand\u001b[0m \u001b[0mtemperature\u001b[0m \u001b[0;32mis\u001b[0m \u001b[0;32mnot\u001b[0m \u001b[0;32mNone\u001b[0m\u001b[0;34m:\u001b[0m\u001b[0;34m\u001b[0m\u001b[0m\n\u001b[1;32m     96\u001b[0m             \u001b[0;32mreturn\u001b[0m \u001b[0;34m(\u001b[0m\u001b[0mhumidity\u001b[0m\u001b[0;34m,\u001b[0m \u001b[0mtemperature\u001b[0m\u001b[0;34m)\u001b[0m\u001b[0;34m\u001b[0m\u001b[0m\n\u001b[0;32m---> 97\u001b[0;31m         \u001b[0mtime\u001b[0m\u001b[0;34m.\u001b[0m\u001b[0msleep\u001b[0m\u001b[0;34m(\u001b[0m\u001b[0mdelay_seconds\u001b[0m\u001b[0;34m)\u001b[0m\u001b[0;34m\u001b[0m\u001b[0m\n\u001b[0m\u001b[1;32m     98\u001b[0m     \u001b[0;32mreturn\u001b[0m \u001b[0;34m(\u001b[0m\u001b[0;32mNone\u001b[0m\u001b[0;34m,\u001b[0m \u001b[0;32mNone\u001b[0m\u001b[0;34m)\u001b[0m\u001b[0;34m\u001b[0m\u001b[0m\n",
      "\u001b[0;31mKeyboardInterrupt\u001b[0m: "
     ]
    }
   ],
   "source": [
    "USERNAME =\"pfe\"\n",
    "PASSWORD = \"pfe\"\n",
    "DBNAME = \"issatso\"\n",
    "HOSTNAME = \"ec2-35-181-53-246.eu-west-3.compute.amazonaws.com\"  \n",
    " \n",
    "\n",
    "con =mysql.connector.connect(host = HOSTNAME ,user= USERNAME,passwd = PASSWORD ,db =  DBNAME, port = 3306)\n",
    "con.autocommit = True\n",
    "cursor = con.cursor()\n",
    "print (\"Connected to your Database!\")\n",
    "\n",
    " \n",
    "\n",
    " \n",
    "while True :\n",
    "        Humidity,Temperature = Adafruit_DHT.read_retry(11,27)\n",
    "        \n",
    "        print (\"Humidity = {} %; Temperature = {} C\".format(Humidity, Temperature))\n",
    "        cursor.execute(\"INSERT INTO  mesures(ID_NOEUD,TEMP,HUM,LUM,TIME,DATE) VALUES(%s,%s,%s,%s,%s,%s)\" ,(1,Temperature, Humidity, 12600, time.strftime(r\"%H:%M:%S\", time.localtime()),time.strftime(r\"%Y-%m-%d\", time.localtime())))\n",
    "#        cursor.execute(\"INSERT INTO Agro_Environmental_Parameters(Node_ID,Luminosity,Humidity,Temperature, Time, Date) VALUES(%s,%s, %s, %s,%s,%s)\" ,\n",
    "#        (1,Humidity,Temperature,1,time.strftime(r\"%H:%M:%S\", time.localtime())))\n",
    "        time.sleep(2)\n",
    "        print (\"Done !\")\n",
    "cursor.close()\n",
    "con.close()\n"
   ]
  },
  {
   "cell_type": "code",
   "execution_count": null,
   "metadata": {
    "collapsed": true
   },
   "outputs": [],
   "source": []
  }
 ],
 "metadata": {
  "anaconda-cloud": {},
  "kernelspec": {
   "display_name": "Python 3",
   "language": "python",
   "name": "python3"
  },
  "language_info": {
   "codemirror_mode": {
    "name": "ipython",
    "version": 3
   },
   "file_extension": ".py",
   "mimetype": "text/x-python",
   "name": "python",
   "nbconvert_exporter": "python",
   "pygments_lexer": "ipython3",
   "version": "3.6.5"
  },
  "latex_envs": {
   "LaTeX_envs_menu_present": true,
   "autoclose": false,
   "autocomplete": true,
   "bibliofile": "biblio.bib",
   "cite_by": "apalike",
   "current_citInitial": 1,
   "eqLabelWithNumbers": true,
   "eqNumInitial": 1,
   "hotkeys": {
    "equation": "Ctrl-E",
    "itemize": "Ctrl-I"
   },
   "labels_anchors": false,
   "latex_user_defs": false,
   "report_style_numbering": false,
   "user_envs_cfg": false
  }
 },
 "nbformat": 4,
 "nbformat_minor": 2
}
